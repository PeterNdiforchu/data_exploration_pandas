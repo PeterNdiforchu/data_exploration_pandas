{
 "cells": [
  {
   "attachments": {},
   "cell_type": "markdown",
   "metadata": {},
   "source": [
    "![inu_neko_profile_image](inu_neko_profile_image_small.png)"
   ]
  },
  {
   "cell_type": "markdown",
   "metadata": {},
   "source": [
    "\n",
    "Hello! We are Inu + Neku and we are a Dog & Cat services and supplies store located in New York City. We just started our e-commerce business and need your help analyzing our data!"
   ]
  },
  {
   "cell_type": "markdown",
   "metadata": {},
   "source": [
    "## 1.1 Description\n",
    "\n",
    "We need to make sure the data is clean before starting our analysis. As a reminder, we should check for:\n",
    "\n",
    "* Duplicate records\n",
    "* Consistente formatting\n",
    "* Missing values\n",
    "* Obviously wrong values"
   ]
  },
  {
   "cell_type": "markdown",
   "metadata": {},
   "source": [
    "We will start by importing all our libraries for analysis and do some exploratory analyis on our data:"
   ]
  },
  {
   "cell_type": "code",
   "execution_count": 1,
   "metadata": {},
   "outputs": [],
   "source": [
    "import pandas as pd\n",
    "import numpy as np\n",
    "import matplotlib.pyplot as plt"
   ]
  },
  {
   "cell_type": "code",
   "execution_count": 2,
   "metadata": {},
   "outputs": [
    {
     "data": {
      "text/html": [
       "<div>\n",
       "<style scoped>\n",
       "    .dataframe tbody tr th:only-of-type {\n",
       "        vertical-align: middle;\n",
       "    }\n",
       "\n",
       "    .dataframe tbody tr th {\n",
       "        vertical-align: top;\n",
       "    }\n",
       "\n",
       "    .dataframe thead th {\n",
       "        text-align: right;\n",
       "    }\n",
       "</style>\n",
       "<table border=\"1\" class=\"dataframe\">\n",
       "  <thead>\n",
       "    <tr style=\"text-align: right;\">\n",
       "      <th></th>\n",
       "      <th>trans_id</th>\n",
       "      <th>prod_upc</th>\n",
       "      <th>cust_id</th>\n",
       "      <th>trans_timestamp</th>\n",
       "      <th>trans_year</th>\n",
       "      <th>trans_month</th>\n",
       "      <th>trans_day</th>\n",
       "      <th>trans_hour</th>\n",
       "      <th>trans_quantity</th>\n",
       "      <th>cust_age</th>\n",
       "      <th>cust_state</th>\n",
       "      <th>prod_price</th>\n",
       "      <th>prod_title</th>\n",
       "      <th>prod_category</th>\n",
       "      <th>prod_animal_type</th>\n",
       "      <th>total_sales</th>\n",
       "    </tr>\n",
       "  </thead>\n",
       "  <tbody>\n",
       "    <tr>\n",
       "      <th>0</th>\n",
       "      <td>10300097</td>\n",
       "      <td>719638485153</td>\n",
       "      <td>1001019</td>\n",
       "      <td>2021-01-01 07:35:21.439873</td>\n",
       "      <td>2021</td>\n",
       "      <td>1</td>\n",
       "      <td>1</td>\n",
       "      <td>1</td>\n",
       "      <td>1</td>\n",
       "      <td>20</td>\n",
       "      <td>New York</td>\n",
       "      <td>72.99</td>\n",
       "      <td>Cat Cave</td>\n",
       "      <td>bedding</td>\n",
       "      <td>cat</td>\n",
       "      <td>72.99</td>\n",
       "    </tr>\n",
       "    <tr>\n",
       "      <th>1</th>\n",
       "      <td>10300093</td>\n",
       "      <td>73201504044</td>\n",
       "      <td>1001015</td>\n",
       "      <td>2021-01-01 09:33:37.499660</td>\n",
       "      <td>2021</td>\n",
       "      <td>1</td>\n",
       "      <td>1</td>\n",
       "      <td>1</td>\n",
       "      <td>1</td>\n",
       "      <td>34</td>\n",
       "      <td>New York</td>\n",
       "      <td>18.95</td>\n",
       "      <td>Purrfect Puree</td>\n",
       "      <td>treat</td>\n",
       "      <td>cat</td>\n",
       "      <td>18.95</td>\n",
       "    </tr>\n",
       "    <tr>\n",
       "      <th>2</th>\n",
       "      <td>10300093</td>\n",
       "      <td>719638485153</td>\n",
       "      <td>1001015</td>\n",
       "      <td>2021-01-01 09:33:37.499660</td>\n",
       "      <td>2021</td>\n",
       "      <td>1</td>\n",
       "      <td>1</td>\n",
       "      <td>1</td>\n",
       "      <td>1</td>\n",
       "      <td>34</td>\n",
       "      <td>New York</td>\n",
       "      <td>72.99</td>\n",
       "      <td>Cat Cave</td>\n",
       "      <td>bedding</td>\n",
       "      <td>cat</td>\n",
       "      <td>72.99</td>\n",
       "    </tr>\n",
       "    <tr>\n",
       "      <th>3</th>\n",
       "      <td>10300093</td>\n",
       "      <td>441530839394</td>\n",
       "      <td>1001015</td>\n",
       "      <td>2021-01-01 09:33:37.499660</td>\n",
       "      <td>2021</td>\n",
       "      <td>1</td>\n",
       "      <td>1</td>\n",
       "      <td>1</td>\n",
       "      <td>2</td>\n",
       "      <td>34</td>\n",
       "      <td>New York</td>\n",
       "      <td>28.45</td>\n",
       "      <td>Ball and String</td>\n",
       "      <td>toy</td>\n",
       "      <td>cat</td>\n",
       "      <td>56.90</td>\n",
       "    </tr>\n",
       "    <tr>\n",
       "      <th>4</th>\n",
       "      <td>10300093</td>\n",
       "      <td>733426809698</td>\n",
       "      <td>1001015</td>\n",
       "      <td>2021-01-01 09:33:37.499660</td>\n",
       "      <td>2021</td>\n",
       "      <td>1</td>\n",
       "      <td>1</td>\n",
       "      <td>1</td>\n",
       "      <td>1</td>\n",
       "      <td>34</td>\n",
       "      <td>New York</td>\n",
       "      <td>18.95</td>\n",
       "      <td>Yum Fish-Dish</td>\n",
       "      <td>food</td>\n",
       "      <td>cat</td>\n",
       "      <td>18.95</td>\n",
       "    </tr>\n",
       "    <tr>\n",
       "      <th>...</th>\n",
       "      <td>...</td>\n",
       "      <td>...</td>\n",
       "      <td>...</td>\n",
       "      <td>...</td>\n",
       "      <td>...</td>\n",
       "      <td>...</td>\n",
       "      <td>...</td>\n",
       "      <td>...</td>\n",
       "      <td>...</td>\n",
       "      <td>...</td>\n",
       "      <td>...</td>\n",
       "      <td>...</td>\n",
       "      <td>...</td>\n",
       "      <td>...</td>\n",
       "      <td>...</td>\n",
       "      <td>...</td>\n",
       "    </tr>\n",
       "    <tr>\n",
       "      <th>38218</th>\n",
       "      <td>10327860</td>\n",
       "      <td>287663658863</td>\n",
       "      <td>1022098</td>\n",
       "      <td>2021-06-30 15:37:12.821020</td>\n",
       "      <td>2021</td>\n",
       "      <td>6</td>\n",
       "      <td>30</td>\n",
       "      <td>30</td>\n",
       "      <td>1</td>\n",
       "      <td>25</td>\n",
       "      <td>New York</td>\n",
       "      <td>9.95</td>\n",
       "      <td>All Veggie Yummies</td>\n",
       "      <td>treat</td>\n",
       "      <td>dog</td>\n",
       "      <td>9.95</td>\n",
       "    </tr>\n",
       "    <tr>\n",
       "      <th>38219</th>\n",
       "      <td>10327960</td>\n",
       "      <td>140160459467</td>\n",
       "      <td>1022157</td>\n",
       "      <td>2021-06-30 15:45:09.872732</td>\n",
       "      <td>2021</td>\n",
       "      <td>6</td>\n",
       "      <td>30</td>\n",
       "      <td>30</td>\n",
       "      <td>2</td>\n",
       "      <td>31</td>\n",
       "      <td>Pennsylvania</td>\n",
       "      <td>48.95</td>\n",
       "      <td>Snoozer Essentails</td>\n",
       "      <td>bedding</td>\n",
       "      <td>dog</td>\n",
       "      <td>97.90</td>\n",
       "    </tr>\n",
       "    <tr>\n",
       "      <th>38220</th>\n",
       "      <td>10328009</td>\n",
       "      <td>425361189561</td>\n",
       "      <td>1022189</td>\n",
       "      <td>2021-06-30 15:57:44.295104</td>\n",
       "      <td>2021</td>\n",
       "      <td>6</td>\n",
       "      <td>30</td>\n",
       "      <td>30</td>\n",
       "      <td>2</td>\n",
       "      <td>53</td>\n",
       "      <td>New Jersey</td>\n",
       "      <td>15.99</td>\n",
       "      <td>Snack-em Fish</td>\n",
       "      <td>treat</td>\n",
       "      <td>cat</td>\n",
       "      <td>31.98</td>\n",
       "    </tr>\n",
       "    <tr>\n",
       "      <th>38221</th>\n",
       "      <td>10328089</td>\n",
       "      <td>733426809698</td>\n",
       "      <td>1022236</td>\n",
       "      <td>2021-06-30 15:59:29.801593</td>\n",
       "      <td>2021</td>\n",
       "      <td>6</td>\n",
       "      <td>30</td>\n",
       "      <td>30</td>\n",
       "      <td>1</td>\n",
       "      <td>23</td>\n",
       "      <td>Tennessee</td>\n",
       "      <td>18.95</td>\n",
       "      <td>Yum Fish-Dish</td>\n",
       "      <td>food</td>\n",
       "      <td>cat</td>\n",
       "      <td>18.95</td>\n",
       "    </tr>\n",
       "    <tr>\n",
       "      <th>38222</th>\n",
       "      <td>10328109</td>\n",
       "      <td>717036112695</td>\n",
       "      <td>1011924</td>\n",
       "      <td>2021-06-30 17:30:52.205912</td>\n",
       "      <td>2021</td>\n",
       "      <td>6</td>\n",
       "      <td>30</td>\n",
       "      <td>30</td>\n",
       "      <td>1</td>\n",
       "      <td>24</td>\n",
       "      <td>Pennsylvania</td>\n",
       "      <td>60.99</td>\n",
       "      <td>Reddy Beddy</td>\n",
       "      <td>bedding</td>\n",
       "      <td>dog</td>\n",
       "      <td>60.99</td>\n",
       "    </tr>\n",
       "  </tbody>\n",
       "</table>\n",
       "<p>38223 rows × 16 columns</p>\n",
       "</div>"
      ],
      "text/plain": [
       "       trans_id      prod_upc  cust_id             trans_timestamp  \\\n",
       "0      10300097  719638485153  1001019  2021-01-01 07:35:21.439873   \n",
       "1      10300093   73201504044  1001015  2021-01-01 09:33:37.499660   \n",
       "2      10300093  719638485153  1001015  2021-01-01 09:33:37.499660   \n",
       "3      10300093  441530839394  1001015  2021-01-01 09:33:37.499660   \n",
       "4      10300093  733426809698  1001015  2021-01-01 09:33:37.499660   \n",
       "...         ...           ...      ...                         ...   \n",
       "38218  10327860  287663658863  1022098  2021-06-30 15:37:12.821020   \n",
       "38219  10327960  140160459467  1022157  2021-06-30 15:45:09.872732   \n",
       "38220  10328009  425361189561  1022189  2021-06-30 15:57:44.295104   \n",
       "38221  10328089  733426809698  1022236  2021-06-30 15:59:29.801593   \n",
       "38222  10328109  717036112695  1011924  2021-06-30 17:30:52.205912   \n",
       "\n",
       "       trans_year  trans_month  trans_day  trans_hour  trans_quantity  \\\n",
       "0            2021            1          1           1               1   \n",
       "1            2021            1          1           1               1   \n",
       "2            2021            1          1           1               1   \n",
       "3            2021            1          1           1               2   \n",
       "4            2021            1          1           1               1   \n",
       "...           ...          ...        ...         ...             ...   \n",
       "38218        2021            6         30          30               1   \n",
       "38219        2021            6         30          30               2   \n",
       "38220        2021            6         30          30               2   \n",
       "38221        2021            6         30          30               1   \n",
       "38222        2021            6         30          30               1   \n",
       "\n",
       "       cust_age    cust_state  prod_price          prod_title prod_category  \\\n",
       "0            20      New York       72.99            Cat Cave       bedding   \n",
       "1            34      New York       18.95      Purrfect Puree         treat   \n",
       "2            34      New York       72.99            Cat Cave       bedding   \n",
       "3            34      New York       28.45     Ball and String           toy   \n",
       "4            34      New York       18.95       Yum Fish-Dish          food   \n",
       "...         ...           ...         ...                 ...           ...   \n",
       "38218        25      New York        9.95  All Veggie Yummies         treat   \n",
       "38219        31  Pennsylvania       48.95  Snoozer Essentails       bedding   \n",
       "38220        53    New Jersey       15.99       Snack-em Fish         treat   \n",
       "38221        23     Tennessee       18.95       Yum Fish-Dish          food   \n",
       "38222        24  Pennsylvania       60.99         Reddy Beddy       bedding   \n",
       "\n",
       "      prod_animal_type  total_sales  \n",
       "0                  cat        72.99  \n",
       "1                  cat        18.95  \n",
       "2                  cat        72.99  \n",
       "3                  cat        56.90  \n",
       "4                  cat        18.95  \n",
       "...                ...          ...  \n",
       "38218              dog         9.95  \n",
       "38219              dog        97.90  \n",
       "38220              cat        31.98  \n",
       "38221              cat        18.95  \n",
       "38222              dog        60.99  \n",
       "\n",
       "[38223 rows x 16 columns]"
      ]
     },
     "execution_count": 2,
     "metadata": {},
     "output_type": "execute_result"
    }
   ],
   "source": [
    "df_cleaned = pd.read_csv('inu_neko_orderline_clean.csv')\n",
    "df_cleaned"
   ]
  },
  {
   "cell_type": "markdown",
   "metadata": {},
   "source": [
    "In order to get a better understanding of the about the structure of our data including number of columns, non-null counts, and data type we use the `.info()` method of our pandas library."
   ]
  },
  {
   "cell_type": "code",
   "execution_count": 3,
   "metadata": {},
   "outputs": [
    {
     "name": "stdout",
     "output_type": "stream",
     "text": [
      "<class 'pandas.core.frame.DataFrame'>\n",
      "RangeIndex: 38223 entries, 0 to 38222\n",
      "Data columns (total 16 columns):\n",
      " #   Column            Non-Null Count  Dtype  \n",
      "---  ------            --------------  -----  \n",
      " 0   trans_id          38223 non-null  int64  \n",
      " 1   prod_upc          38223 non-null  int64  \n",
      " 2   cust_id           38223 non-null  int64  \n",
      " 3   trans_timestamp   38223 non-null  object \n",
      " 4   trans_year        38223 non-null  int64  \n",
      " 5   trans_month       38223 non-null  int64  \n",
      " 6   trans_day         38223 non-null  int64  \n",
      " 7   trans_hour        38223 non-null  int64  \n",
      " 8   trans_quantity    38223 non-null  int64  \n",
      " 9   cust_age          38223 non-null  int64  \n",
      " 10  cust_state        38223 non-null  object \n",
      " 11  prod_price        38223 non-null  float64\n",
      " 12  prod_title        38223 non-null  object \n",
      " 13  prod_category     38223 non-null  object \n",
      " 14  prod_animal_type  38223 non-null  object \n",
      " 15  total_sales       38223 non-null  float64\n",
      "dtypes: float64(2), int64(9), object(5)\n",
      "memory usage: 4.7+ MB\n"
     ]
    }
   ],
   "source": [
    "df_cleaned.info()"
   ]
  },
  {
   "cell_type": "markdown",
   "metadata": {},
   "source": [
    "We will now begin the process of exploring our data to answer relevant business questions. A couple of questions come to mind when exploring our data. It is always helpful to have objectives of what we are trying to achieve before starting our exploratory analysis. We came up we 3 main objectives:\n",
    "\n",
    "1. To understand the top 5 niche pet products to add to our product line by the end of December\n",
    "2. To identify the top 5 distinguishing demographics of our new customers.\n",
    "3. To determine the growth/decline of sales in the next 6 months and what factors contribute to it\n"
   ]
  },
  {
   "cell_type": "markdown",
   "metadata": {},
   "source": [
    "There are a few business questions that we came up with to help us answer answer achieve our analysis objectives. They include:\n",
    "\n",
    "1. How many transactions are there\n",
    "2. What was the month and day of the first sale?\n",
    "3. What was the month and day of the last sale?\n",
    "4. Which animal type is most popular?\n",
    "5. What was the total dollar amount made in the month of January?\n",
    "6. What was the total dollar amount made in the month of June?\n",
    "7. What is the average number of items bought in each transaction?\n",
    "8. What are the top ten product titles by the number of sales?\n",
    "9. What are the top ten product titles by total dollar amount made?\n",
    "10. What is the proportion of returning customers?"
   ]
  },
  {
   "cell_type": "markdown",
   "metadata": {},
   "source": [
    "### Question 1: Number of Orders"
   ]
  },
  {
   "cell_type": "code",
   "execution_count": 5,
   "metadata": {},
   "outputs": [
    {
     "data": {
      "text/plain": [
       "28022"
      ]
     },
     "execution_count": 5,
     "metadata": {},
     "output_type": "execute_result"
    }
   ],
   "source": [
    "num_trans = df_cleaned.groupby('trans_id')['total_sales'].size().count()\n",
    "num_trans"
   ]
  },
  {
   "cell_type": "markdown",
   "metadata": {},
   "source": [
    "There is a total of `28022` transactions made in the year 2021. A huge number for small business that just started. What else can we discover?"
   ]
  },
  {
   "cell_type": "markdown",
   "metadata": {},
   "source": [
    "### Question 2: Alpa and Omega I"
   ]
  },
  {
   "cell_type": "code",
   "execution_count": 7,
   "metadata": {},
   "outputs": [
    {
     "name": "stdout",
     "output_type": "stream",
     "text": [
      "(1, 1)\n"
     ]
    }
   ],
   "source": [
    "df_cleaned_arrangedbydate = df_cleaned.sort_values(by=['trans_year','trans_day'])\n",
    "first_date = df_cleaned_arrangedbydate[['trans_month','trans_day']].iloc[0]\n",
    "first_date = tuple(first_date)\n",
    "print(first_date)"
   ]
  },
  {
   "cell_type": "markdown",
   "metadata": {},
   "source": [
    "The month of our first sale was `January` and the day was `01`. What an interesting way to kickstart the year don't you think?"
   ]
  },
  {
   "cell_type": "markdown",
   "metadata": {},
   "source": [
    "### Question 3: Alpha and Omega II"
   ]
  },
  {
   "cell_type": "code",
   "execution_count": 8,
   "metadata": {},
   "outputs": [
    {
     "name": "stdout",
     "output_type": "stream",
     "text": [
      "(6, 30)\n"
     ]
    }
   ],
   "source": [
    "df_cleaned_arrangedbydate = df_cleaned.sort_values(by=['trans_year','trans_month','trans_day'])\n",
    "last_date = df_cleaned_arrangedbydate[['trans_month','trans_day']].iloc[-1]\n",
    "last_date = tuple(last_date)\n",
    "print(last_date)"
   ]
  },
  {
   "cell_type": "markdown",
   "metadata": {},
   "source": [
    "The month of our last sale was `June` and the day was `30`.  Now we know the date of the first and last sale. Though this does not really provide us any meaningful insight, but it helps us get some understanding of our customer base. We will dive into deeper exploratory analyis shortly."
   ]
  },
  {
   "cell_type": "markdown",
   "metadata": {},
   "source": [
    "### Question 4: Cats vs Dogs"
   ]
  },
  {
   "cell_type": "code",
   "execution_count": 11,
   "metadata": {},
   "outputs": [
    {
     "name": "stdout",
     "output_type": "stream",
     "text": [
      "cat\n"
     ]
    }
   ],
   "source": [
    "most_pop_1 = df_cleaned['prod_animal_type'].value_counts()\n",
    "most_pop = most_pop_1.keys()[0]\n",
    "print(most_pop)"
   ]
  },
  {
   "cell_type": "markdown",
   "metadata": {},
   "source": [
    "We see that the most popular animal product type is `cat`. It would be good to understand why cat food is more popular in some geographical regions as opposed to others. "
   ]
  },
  {
   "cell_type": "markdown",
   "metadata": {},
   "source": [
    "### Question 5: More Money More Problems I"
   ]
  },
  {
   "cell_type": "code",
   "execution_count": 12,
   "metadata": {},
   "outputs": [
    {
     "name": "stdout",
     "output_type": "stream",
     "text": [
      "51739.73999999996\n"
     ]
    }
   ],
   "source": [
    "jan_rev = df_cleaned.groupby('trans_month')['total_sales'].sum().iloc[0]\n",
    "jan_rev = float(jan_rev)\n",
    "print(jan_rev)"
   ]
  },
  {
   "cell_type": "markdown",
   "metadata": {},
   "source": [
    "We are getting into the heart of the matter - aggregrating sales revenue by month. We randomly picked the month of January and we see that the sales revenue amounted to `$51739.73`"
   ]
  },
  {
   "cell_type": "markdown",
   "metadata": {},
   "source": [
    "### Question 6: More Money More Problems II"
   ]
  },
  {
   "cell_type": "code",
   "execution_count": 13,
   "metadata": {},
   "outputs": [
    {
     "name": "stdout",
     "output_type": "stream",
     "text": [
      "548822.7299999722\n"
     ]
    }
   ],
   "source": [
    "june_rev = df_cleaned.groupby('trans_month')['total_sales'].sum().iloc[5]\n",
    "june_rev = float(june_rev)\n",
    "print(june_rev)"
   ]
  },
  {
   "cell_type": "markdown",
   "metadata": {},
   "source": [
    "Again, we randomly picked the month of June to discover the total amount in sales revenue which was `$548822.72`. We can quickly notice that there has been an increase (almost 1000% increase) in the sales revenue from January to June. Is that a pattern or it's seasonal? We shall come to find out."
   ]
  },
  {
   "cell_type": "markdown",
   "metadata": {},
   "source": [
    "### Question 7: Transaction Size"
   ]
  },
  {
   "cell_type": "code",
   "execution_count": 15,
   "metadata": {},
   "outputs": [
    {
     "name": "stdout",
     "output_type": "stream",
     "text": [
      "1.8745628434801227\n"
     ]
    }
   ],
   "source": [
    "avg_num = df_cleaned.groupby('trans_id')['trans_quantity'].sum()\n",
    "avg_list = list(avg_num)\n",
    "y=0\n",
    "for x in avg_list:\n",
    "    y = y + int(x)\n",
    "z = len(avg_list)\n",
    "avg_num_items = y/z\n",
    "print(avg_num_items)"
   ]
  },
  {
   "cell_type": "markdown",
   "metadata": {},
   "source": [
    "From our analysis we discover that on average clients make `1.8745628434801227` orders in a single transaction. For simplicity of our analysis, we can say on average clients make `2` orders in a single transaction."
   ]
  },
  {
   "cell_type": "markdown",
   "metadata": {},
   "source": [
    "### Question 8: Best Products I"
   ]
  },
  {
   "cell_type": "code",
   "execution_count": 16,
   "metadata": {},
   "outputs": [
    {
     "name": "stdout",
     "output_type": "stream",
     "text": [
      "['Reddy Beddy', 'Yum Fish-Dish', 'Kitty Climber', 'Feline Fix Mix', 'Tuna Tasties', 'Chewie Dental', 'Purrfect Puree', 'Whole Chemistry Recipe', 'Cat Cave', 'Snoozer Hammock']\n"
     ]
    }
   ],
   "source": [
    "df_topten = df_cleaned.groupby('prod_title')['trans_quantity'].sum().sort_values(ascending = False)[:10]\n",
    "top_num_sales = list(df_topten.keys())\n",
    "print(top_num_sales)"
   ]
  },
  {
   "cell_type": "markdown",
   "metadata": {},
   "source": [
    "### Question 9: Best Products II"
   ]
  },
  {
   "cell_type": "code",
   "execution_count": 17,
   "metadata": {},
   "outputs": [
    {
     "name": "stdout",
     "output_type": "stream",
     "text": [
      "['Reddy Beddy', 'Cat Cave', 'Kitty Climber', 'Snoozer Hammock', 'Snoozer Essentails', 'Yum Fish-Dish', 'Scratchy Post', 'Feline Fix Mix', 'Foozy Mouse', 'Tuna Tasties']\n"
     ]
    }
   ],
   "source": [
    "df_toptensales = df_cleaned.groupby('prod_title')['total_sales'].sum().sort_values(ascending = False)[:10]\n",
    "top_tot_sales = list(df_toptensales.keys())\n",
    "print(top_tot_sales)"
   ]
  },
  {
   "cell_type": "markdown",
   "metadata": {},
   "source": [
    "### Question 10: Loyalty"
   ]
  },
  {
   "cell_type": "code",
   "execution_count": 18,
   "metadata": {},
   "outputs": [
    {
     "name": "stdout",
     "output_type": "stream",
     "text": [
      "0.4522385951697189\n"
     ]
    }
   ],
   "source": [
    "total_cust = df_cleaned['cust_id'].nunique()\n",
    "count_return = list(df_cleaned.groupby('cust_id').size())\n",
    "number_of_return_customers = 0\n",
    "for x in count_return:\n",
    "    if x > 1:\n",
    "        number_of_return_customers = number_of_return_customers + 1\n",
    "prop_returning = number_of_return_customers/total_cust\n",
    "print(prop_returning)"
   ]
  },
  {
   "cell_type": "markdown",
   "metadata": {},
   "source": [
    "Interesting to see that almost `50%` of customers are repeat buyers. This is a very good observation for our business as we can seek to understand how to these repeat buyers inorder to keep them with targeted loyalty programs such as coupons and special offers. "
   ]
  },
  {
   "cell_type": "markdown",
   "metadata": {},
   "source": [
    "These 10 questions do not completely answer our business objectives but they give us a headstart and point us in the right direction as we dive deeper into our data through visualizations. What visuals can tell about our data is more than a word 1000 words."
   ]
  }
 ],
 "metadata": {
  "kernelspec": {
   "display_name": "Python 3",
   "language": "python",
   "name": "python3"
  },
  "language_info": {
   "codemirror_mode": {
    "name": "ipython",
    "version": 3
   },
   "file_extension": ".py",
   "mimetype": "text/x-python",
   "name": "python",
   "nbconvert_exporter": "python",
   "pygments_lexer": "ipython3",
   "version": "3.8.5"
  }
 },
 "nbformat": 4,
 "nbformat_minor": 4
}
